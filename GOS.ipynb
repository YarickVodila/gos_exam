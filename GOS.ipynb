{
 "cells": [
  {
   "cell_type": "code",
   "execution_count": null,
   "metadata": {},
   "outputs": [],
   "source": [
    "# pip install -U g4f[all]\n",
    "\n",
    "from g4f.client import Client\n",
    "client = Client()\n",
    "\n",
    "# Тута пишем запрос\n",
    "context = \"Что такое АТД - стек. Реализация с помощью указателей?\"\n",
    "\n",
    "response = client.chat.completions.create(\n",
    "    model=\"gpt-3.5-turbo\",\n",
    "    messages=[{\"role\": \"user\", \"content\": context}]\n",
    ")\n",
    "\n",
    "# Тута получаем ответ\n",
    "print(response.choices[0].message.content)"
   ]
  },
  {
   "cell_type": "code",
   "execution_count": 1,
   "metadata": {},
   "outputs": [
    {
     "data": {
      "text/markdown": [
       "Конечно! Вот пример кода на Python с использованием библиотеки Tkinter для создания формы, которая обеспечивает ввод информации о студентах и позволяет выводить содержимое базы данных в текстовое окно:\n",
       "\n",
       "```python\n",
       "import tkinter as tk\n",
       "import sqlite3\n",
       "\n",
       "# Создаем подключение к базе данных\n",
       "conn = sqlite3.connect('students.db')\n",
       "c = conn.cursor()\n",
       "\n",
       "# Создаем таблицу для хранения информации о студентах\n",
       "c.execute('''CREATE TABLE IF NOT EXISTS students (\n",
       "             id INTEGER PRIMARY KEY,\n",
       "             name TEXT,\n",
       "             group_number TEXT,\n",
       "             mark1 INTEGER,\n",
       "             mark2 INTEGER,\n",
       "             mark3 INTEGER\n",
       "             )''')\n",
       "\n",
       "conn.commit()\n",
       "\n",
       "# Функция для добавления информации о студенте в базу данных\n",
       "def add_student():\n",
       "    name = name_entry.get()\n",
       "    group_number = group_entry.get()\n",
       "    mark1 = int(mark1_entry.get())\n",
       "    mark2 = int(mark2_entry.get())\n",
       "    mark3 = int(mark3_entry.get())\n",
       "    \n",
       "    c.execute(\"INSERT INTO students (name, group_number, mark1, mark2, mark3) VALUES (?, ?, ?, ?, ?)\", (name, group_number, mark1, mark2, mark3))\n",
       "    conn.commit()\n",
       "\n",
       "# Функция для вывода содержимого базы в текстовое окно\n",
       "def show_students():\n",
       "    c.execute(\"SELECT * FROM students\")\n",
       "    data = c.fetchall()\n",
       "    text.delete(1.0, tk.END)\n",
       "    for row in data:\n",
       "        text.insert(tk.END, f\"ID: {row[0]}, Name: {row[1]}, Group: {row[2]}, Marks: {row[3]}, {row[4]}, {row[5]}\\n\")\n",
       "\n",
       "# Создаем графический интерфейс\n",
       "root = tk.Tk()\n",
       "root.title(\"Форма для ввода информации о студентах\")\n",
       "\n",
       "name_label = tk.Label(root, text=\"ФИО:\")\n",
       "name_label.pack()\n",
       "name_entry = tk.Entry(root)\n",
       "name_entry.pack()\n",
       "\n",
       "group_label = tk.Label(root, text=\"№ группы:\")\n",
       "group_label.pack()\n",
       "group_entry = tk.Entry(root)\n",
       "group_entry.pack()\n",
       "\n",
       "mark1_label = tk.Label(root, text=\"Оценка 1:\")\n",
       "mark1_label.pack()\n",
       "mark1_entry = tk.Entry(root)\n",
       "mark1_entry.pack()\n",
       "\n",
       "mark2_label = tk.Label(root, text=\"Оценка 2:\")\n",
       "mark2_label.pack()\n",
       "mark2_entry = tk.Entry(root)\n",
       "mark2_entry.pack()\n",
       "\n",
       "mark3_label = tk.Label(root, text=\"Оценка 3:\")\n",
       "mark3_label.pack()\n",
       "mark3_entry = tk.Entry(root)\n",
       "mark3_entry.pack()\n",
       "\n",
       "add_button = tk.Button(root, text=\"Добавить студента\", command=add_student)\n",
       "add_button.pack()\n",
       "\n",
       "show_button = tk.Button(root, text=\"Показать студентов\", command=show_students)\n",
       "show_button.pack()\n",
       "\n",
       "text = tk.Text(root)\n",
       "text.pack()\n",
       "\n",
       "root.mainloop()\n",
       "```\n",
       "\n",
       "Этот код создает графический интерфейс, в котором можно вводить информацию о студентах и сохранять ее в базу данных. Также есть кнопка для вывода содержимого базы в текстовое окно."
      ],
      "text/plain": [
       "<IPython.core.display.Markdown object>"
      ]
     },
     "execution_count": 1,
     "metadata": {},
     "output_type": "execute_result"
    }
   ],
   "source": [
    "# pip install -U g4f\n",
    "# https://github.com/xtekky/gpt4free\n",
    "\n",
    "\"\"\" \n",
    "Порядок действий\n",
    "1) Создаём виртуальное окружение .venv\n",
    "2) устанавливаем g4f командой `pip install -U g4f`\n",
    "3) Выполняем скрипт ниже\n",
    "\n",
    "!!!Важно\n",
    "Если хотите адекватный и красивый вывод используйте файл \".ipynb\" вместо \".py\"\n",
    "Советую VS Code\n",
    "\n",
    "\"\"\"\n",
    "\n",
    "from IPython.display import Markdown as md\n",
    "import g4f\n",
    "\n",
    "# Тута пишем запрос\n",
    "context = \"Разработайте форму на Python, которая обеспечивает ввод информации о студентах (ФИО, № группы, 3 оценки за сессию) в базу данных. Одна из функций формы – вывод содержимого базы в текстовое окно.\"\n",
    "\n",
    "response = g4f.ChatCompletion.create(\n",
    "    model=\"gpt-3.5-turbo\",\n",
    "    messages=[{\"role\": \"user\", \"content\": context}],\n",
    "    # stream=True,\n",
    ")\n",
    "\n",
    "# Для параметра stream=True\n",
    "# for message in response:\n",
    "#     print(message, flush=True, end='')\n",
    "\n",
    "# Тута получаем ответ\n",
    "md(response)"
   ]
  },
  {
   "cell_type": "code",
   "execution_count": 7,
   "metadata": {},
   "outputs": [],
   "source": [
    "from g4f.gui.webview import run_webview\n",
    "run_webview(debug=True)"
   ]
  },
  {
   "cell_type": "code",
   "execution_count": 4,
   "metadata": {},
   "outputs": [
    {
     "name": "stdout",
     "output_type": "stream",
     "text": [
      "Исходная матрица: [[5, 12, 5, 12, 2], [19, 13, 14, 19, 17], [19, 20, 8, 13, 5], [7, 2, 11, 5, 20], [6, 4, 11, 6, 19]]\n",
      "Измененная матрица: [[0, 12, 0, 12, 2], [19, 13, 14, 19, 17], [19, 20, 0, 13, 0], [0, 2, 11, 0, 20], [0, 0, 11, 0, 19]]\n"
     ]
    }
   ],
   "source": [
    "import random\n",
    "\n",
    "array = [[random.randint(1, 20) for _ in range(5)] for _ in range(5)]\n",
    "\n",
    "print('Исходная матрица:', array)\n",
    "\n",
    "for i in range(5):\n",
    "    for j in range(5):\n",
    "        if array[i][j] >= 3 and array[i][j] <= 8:\n",
    "            array[i][j] = 0\n",
    "\n",
    "print('Измененная матрица:', array)"
   ]
  },
  {
   "cell_type": "code",
   "execution_count": 9,
   "metadata": {},
   "outputs": [
    {
     "name": "stdout",
     "output_type": "stream",
     "text": [
      "Исходная матрица [[6, 9, 5, 9, 8], [4, 10, 7, 5, 2], [4, 4, 10, 6, 1], [6, 6, 4, 4, 1], [7, 8, 1, 7, 8]]\n",
      "Количество элементов {1: 3, 2: 1, 3: 0, 4: 5, 5: 2, 6: 4, 7: 3, 8: 3, 9: 2, 10: 2}\n"
     ]
    }
   ],
   "source": [
    "import random\n",
    "\n",
    "array = [[random.randint(1, 10) for _ in range(5)] for _ in range(5)]\n",
    "\n",
    "all_numbers = {i: 0 for i in range(1, 11)}\n",
    "\n",
    "for i in range(5):\n",
    "    for j in range(5):\n",
    "        all_numbers[array[i][j]] +=1\n",
    "\n",
    "print(\"Исходная матрица\", array)\n",
    "print(\"Количество элементов\", all_numbers)"
   ]
  },
  {
   "cell_type": "code",
   "execution_count": 14,
   "metadata": {},
   "outputs": [
    {
     "name": "stdout",
     "output_type": "stream",
     "text": [
      "d:  {'5': 1, '6': 2, '7': 3, '8': 4}\n"
     ]
    }
   ],
   "source": [
    "d = {1: '5', 2: '6', 3: '7', 4: '8'}\n",
    "\n",
    "d_keys_last = list(d.keys())\n",
    "\n",
    "for key in d_keys_last:\n",
    "    # Меняем ключи и значения местами\n",
    "    d[d[key]] = key\n",
    "    # Удаляем предыдущий ключ\n",
    "    d.pop(key)\n",
    "\n",
    "    \n",
    "print('d: ', d)"
   ]
  },
  {
   "cell_type": "code",
   "execution_count": 22,
   "metadata": {},
   "outputs": [],
   "source": [
    "import random\n",
    "\n",
    "def dict_l(lst):\n",
    "    if not isinstance(lst, list):\n",
    "        raise ValueError(f\"\"\" Тип данных {type(lst)} не поддерживается!!! Необходимо предать тип \"List\" \"\"\")\n",
    "\n",
    "    try:\n",
    "        return {val:val for val in lst}\n",
    "    except Exception as e:\n",
    "        print(f\"Произошла ошибка: {e}\")\n",
    "\n",
    "\n",
    "\n",
    "test_lst_1 = [1, 2, 3, 4]\n",
    "test_lst_2 = [1, 1, 1, 1]\n",
    "test_lst_3 = []\n",
    "\n",
    "\n",
    "# Тест первый\n",
    "assert {1: 1, 2: 2, 3: 3, 4: 4} == dict_l(test_lst_1), \"Ошибка в создании словаря, ожидаемый словарь не равен словарю на выводе метода\"\n",
    "\n",
    "# Тест второй\n",
    "assert {1: 1} == dict_l(test_lst_2), \"Ошибка в создании словаря, ожидаемый словарь не равен словарю на выводе метода\"\n",
    "\n",
    "# Тест третий\n",
    "assert {} == dict_l(test_lst_3), \"Ошибка в создании словаря, ожидаемый словарь не равен словарю на выводе метода\""
   ]
  },
  {
   "cell_type": "code",
   "execution_count": 23,
   "metadata": {},
   "outputs": [
    {
     "name": "stdout",
     "output_type": "stream",
     "text": [
      "3\n",
      "2\n",
      "False\n"
     ]
    }
   ],
   "source": [
    "class Node:\n",
    "    def __init__(self, data):\n",
    "        self.data = data\n",
    "        self.next = None\n",
    "\n",
    "class Stack:\n",
    "    def __init__(self):\n",
    "        self.top = None\n",
    "\n",
    "    # Добавить в стек\n",
    "    def push(self, data):\n",
    "        new_node = Node(data)\n",
    "        new_node.next = self.top\n",
    "        self.top = new_node\n",
    "\n",
    "    # Извлечь верхний элемент\n",
    "    def pop(self):\n",
    "        if self.top is None:\n",
    "            return None\n",
    "        data = self.top.data\n",
    "        self.top = self.top.next\n",
    "        return data\n",
    "\n",
    "    # Посмотреть содержание верхнего элемента\n",
    "    def peek(self):\n",
    "        if self.top is None:\n",
    "            return None\n",
    "        return self.top.data\n",
    "\n",
    "    # Проверка есть ли элементы в стеке\n",
    "    def is_empty(self):\n",
    "        return self.top is None\n",
    "\n",
    "# Пример использования стека\n",
    "stack = Stack()\n",
    "stack.push(1)\n",
    "stack.push(2)\n",
    "stack.push(3)\n",
    "\n",
    "print(stack.pop())  # Вывод: 3\n",
    "print(stack.peek())  # Вывод: 2\n",
    "print(stack.is_empty())  # Вывод: False\n"
   ]
  },
  {
   "cell_type": "code",
   "execution_count": 34,
   "metadata": {},
   "outputs": [
    {
     "name": "stdout",
     "output_type": "stream",
     "text": [
      " \n",
      "            | Предыдущий | Текущий | Следующий|\n",
      "            |---------------------------------|\n",
      "            | None | 1 | 2 |\n",
      "\n",
      "                ||\n",
      "                \\/\n",
      " \n",
      "            | Предыдущий | Текущий | Следующий|\n",
      "            |---------------------------------|\n",
      "            | 1 | 2 | 3 |\n",
      "\n",
      "                ||\n",
      "                \\/\n",
      " \n",
      "            | Предыдущий | Текущий | Следующий|\n",
      "            |---------------------------------|\n",
      "            | 2 | 3 | None |\n",
      "\n",
      "                ||\n",
      "                \\/\n"
     ]
    }
   ],
   "source": [
    "class Node:\n",
    "    def __init__(self, data):\n",
    "        self.data = data\n",
    "        self.prev = None\n",
    "        self.next = None\n",
    "\n",
    "    def __name__(self):\n",
    "        prev = self.prev.data if self.prev != None else 'None'\n",
    "\n",
    "        next = self.next.data if self.next != None else 'None'\n",
    "\n",
    "        s = f\"\"\" \n",
    "            | Предыдущий | Текущий | Следующий|\n",
    "            |---------------------------------|\n",
    "            | {prev} | {self.data} | {next} |\"\"\"\n",
    "\n",
    "        return s\n",
    "           \n",
    "\n",
    "\n",
    "class DoublyLinkedList:\n",
    "    def __init__(self):\n",
    "        self.head = None\n",
    "\n",
    "    def insert_at_end(self, data):\n",
    "        new_node = Node(data)\n",
    "        if self.head is None:\n",
    "            self.head = new_node\n",
    "        else:\n",
    "            current = self.head\n",
    "            while current.next:\n",
    "                current = current.next\n",
    "            current.next = new_node\n",
    "            new_node.prev = current\n",
    "\n",
    "    def insert_at_start(self, data):\n",
    "        new_node = Node(data)\n",
    "        if self.head is None:\n",
    "            self.head = new_node\n",
    "        else:\n",
    "            # Начальный узел\n",
    "            current = self.head\n",
    "            current.prev = new_node\n",
    "            new_node.next = current\n",
    "            \n",
    "            self.head = new_node\n",
    "\n",
    "    def display(self):\n",
    "        current = self.head\n",
    "        while current:\n",
    "            print(current.__name__())\n",
    "            print(f\"\"\"\n",
    "                ||\n",
    "                \\/\"\"\")\n",
    "            current = current.next\n",
    "\n",
    "# Пример использования двусвязного списка\n",
    "dll = DoublyLinkedList()\n",
    "dll.insert_at_end(1)\n",
    "dll.insert_at_end(2)\n",
    "dll.insert_at_end(3)\n",
    "\n",
    "dll.insert_at_start(4)\n",
    "\n",
    "dll.display()\n"
   ]
  },
  {
   "cell_type": "code",
   "execution_count": 1,
   "metadata": {},
   "outputs": [
    {
     "data": {
      "image/png": "[encoded data removed]",
      "text/plain": [
       "<Figure size 640x480 with 1 Axes>"
      ]
     },
     "metadata": {},
     "output_type": "display_data"
    }
   ],
   "source": [
    "import numpy as np\n",
    "import matplotlib.pyplot as plt\n",
    "\n",
    "\n",
    "# Генерация значений t от 0 до 8*pi\n",
    "t_values = np.linspace(0, 8*np.pi, 1000)\n",
    "# Вычисление радиуса\n",
    "radii = np.sin(7/4 * t_values)\n",
    "\n",
    "\n",
    "plt.polar(t_values, radii)\n",
    "plt.show()"
   ]
  },
  {
   "cell_type": "code",
   "execution_count": 10,
   "metadata": {},
   "outputs": [
    {
     "data": {
      "text/plain": [
       "'мама*мыла*раму*'"
      ]
     },
     "execution_count": 10,
     "metadata": {},
     "output_type": "execute_result"
    }
   ],
   "source": [
    "import re\n",
    "\n",
    "# s = input('Введите строку: ')\n",
    "s = \"мама,,,, мыла…. раму???\"\n",
    "\n",
    "s = \"*\".join(re.split(r'\\W+', s))\n",
    "\n",
    "print('Преобразованная строка: ', s)"
   ]
  },
  {
   "cell_type": "code",
   "execution_count": 4,
   "metadata": {},
   "outputs": [
    {
     "name": "stdout",
     "output_type": "stream",
     "text": [
      "Ученики сдавшие экзамены только на 5: ['Сидоров', 'Смирнов']\n"
     ]
    }
   ],
   "source": [
    "excellent_students = []\n",
    "\n",
    "with open(\"student_grades.txt\", \"r\", encoding=\"utf-8\") as file:\n",
    "    for line in file:\n",
    "        data = line.strip().split(\",\")\n",
    "        name = data[0]\n",
    "        grades = [int(grade) for grade in data[1:]]\n",
    "        if all(grade == 5 for grade in grades):\n",
    "            excellent_students.append(name)\n",
    "\n",
    "print(f'Ученики сдавшие экзамены только на 5: {excellent_students}')\n"
   ]
  },
  {
   "cell_type": "code",
   "execution_count": 5,
   "metadata": {},
   "outputs": [
    {
     "name": "stdout",
     "output_type": "stream",
     "text": [
      "+---------------+---------+-------------------+----------+------+\n",
      "|      ФИО      | Возраст |     Должность     | Зарплата | Стаж |\n",
      "+---------------+---------+-------------------+----------+------+\n",
      "| Соловьев Н.С. |    65   |      Директор     |  150000  |  12  |\n",
      "|  Брежнев Л.И. |    43   |   Зам. директора  |  120000  |  10  |\n",
      "| Коробова С.И. |    34   | Главный бухгалтер |  100000  |  7   |\n",
      "|  Старков Н.В. |    35   |       Завхоз      |  70000   |  10  |\n",
      "| Баранова С.А. |    33   |    Зав. складом   |  90000   |  6   |\n",
      "+---------------+---------+-------------------+----------+------+\n"
     ]
    }
   ],
   "source": [
    "import pickle\n",
    "from prettytable import PrettyTable\n",
    "\n",
    "def inp(nm, dt):\n",
    "    with open(\"data.bin\", \"wb\") as file:\n",
    "        pickle.dump((nm, dt), file)\n",
    "\n",
    "def outp():\n",
    "    with open(\"data.bin\", \"rb\") as file:\n",
    "        nm, dt = pickle.load(file)\n",
    "\n",
    "    table = PrettyTable(nm)\n",
    "    for row in dt:\n",
    "        table.add_row(row)\n",
    "\n",
    "    print(table)\n",
    "\n",
    "\n",
    "\n",
    "nm = ['ФИО', 'Возраст', 'Должность', 'Зарплата', 'Стаж']\n",
    "dt = [\n",
    "    ['Соловьев Н.С.', '65', 'Директор', '150000', '12'],\n",
    "    ['Брежнев Л.И.', '43', 'Зам. директора', '120000', '10'],\n",
    "    ['Коробова С.И.', '34', 'Главный бухгалтер', '100000', '7'],\n",
    "    ['Старков Н.В.', '35', 'Завхоз', '70000', '10'],\n",
    "    ['Баранова С.А.', '33', 'Зав. складом', '90000', '6']\n",
    "]\n",
    "\n",
    "# Вызов функций\n",
    "inp(nm, dt)\n",
    "outp()\n",
    "\n",
    "\n"
   ]
  },
  {
   "cell_type": "code",
   "execution_count": 4,
   "metadata": {},
   "outputs": [
    {
     "name": "stdout",
     "output_type": "stream",
     "text": [
      "13\n",
      "False\n"
     ]
    },
    {
     "data": {
      "text/plain": [
       "(10, 5)"
      ]
     },
     "execution_count": 4,
     "metadata": {},
     "output_type": "execute_result"
    }
   ],
   "source": [
    "class String:\n",
    "    def __init__(self, string_literal=None, character=None):\n",
    "        self.characters = string_literal if string_literal else character if character else \"\"\n",
    "        self.length = len(self.characters.encode('utf-8'))\n",
    "\n",
    "    def get_length(self):\n",
    "        return self.length\n",
    "\n",
    "    def clear_string(self):\n",
    "        self.characters = \"\"\n",
    "        self.length = 0\n",
    "\n",
    "class ComplexNumber(String):\n",
    "    def __init__(self, real_part, imaginary_part):\n",
    "        self.real_part = real_part\n",
    "        self.imaginary_part = imaginary_part\n",
    "        super().__init__(str(real_part) + 'i' + str(imaginary_part))\n",
    "\n",
    "    def __eq__(self, other):\n",
    "        return self.real_part == other.real_part and self.imaginary_part == other.imaginary_part\n",
    "\n",
    "    def __add__(self, other):\n",
    "        real_sum = self.real_part + other.real_part\n",
    "        imaginary_sum = self.imaginary_part + other.imaginary_part\n",
    "        return ComplexNumber(real_sum, imaginary_sum)\n",
    "\n",
    "    def __mul__(self, other):\n",
    "        real_product = self.real_part * other.real_part - self.imaginary_part * other.imaginary_part\n",
    "        imaginary_product = self.real_part * other.imaginary_part + self.imaginary_part * other.real_part\n",
    "        return ComplexNumber(real_product, imaginary_product)\n",
    "\n",
    "# Пример использования классов\n",
    "string1 = String(\"Hello, World!\")\n",
    "print(string1.get_length())  # Выводит длину строки\n",
    "\n",
    "complex1 = ComplexNumber(3, 4)\n",
    "complex2 = ComplexNumber(2, -1)\n",
    "\n",
    "print(complex1 == complex2)  # Проверка на равенство\n",
    "complex_sum = complex1 + complex2  # Сложение чисел\n",
    "complex_product = complex1 * complex2  # Умножение чисел\n",
    "\n",
    "complex_product.real_part, complex_product.imaginary_part"
   ]
  },
  {
   "cell_type": "markdown",
   "metadata": {},
   "source": [
    "Описать класс «запись», содержащий следующие закрытые поля: \n",
    "\n",
    "фамилия, \n",
    "имя; \n",
    "номер телефона; \n",
    "дата рождения (массив из трех чисел). \n",
    "\n",
    "Предусмотреть свойства для получения состояния объекта. \n",
    "\n",
    "Описать класс «записная книжка», содержащий закрытый массив записей. \n",
    "\n",
    "Обеспечить следующие возможности: \n",
    "\n",
    "вывод на экран информации о человеке, номер телефона которого введен с клавиатуры; если такого нет, выдать на дисплей соответствующее сообщение; \n",
    "\n",
    "поиск людей, день рождения которых сегодня или в заданный день; \n",
    "\n",
    "поиск людей, день рождения которых будет на следующей неделе; \n",
    "\n",
    "поиск людей, номер телефона которых начинается на три заданных цифры. \n",
    "\n",
    "Написать программу, демонстрирующую все разработанные элементы классов."
   ]
  },
  {
   "cell_type": "code",
   "execution_count": 24,
   "metadata": {},
   "outputs": [
    {
     "name": "stdout",
     "output_type": "stream",
     "text": [
      "Информации о человеке, с таким номером нет\n",
      "Именинники сегодня:\n",
      "Иванов Иван, телефон: 1234567890, дата рождения: 27.5.1990\n",
      "Именинники в день 29.5.1994: \n",
      "Иванов Иван, телефон: 1234567890, дата рождения: 27.5.1990\n",
      "Именинники на следующей неделе:\n",
      "Петров Петр, телефон: 2345678901, дата рождения: 28.5.1992\n",
      "Сидоров Сидр, телефон: 3456789012, дата рождения: 29.5.1994\n",
      "Люди с номером телефона, начинающимся на заданные цифры:\n",
      "Иванов Иван, телефон: 1234567890, дата рождения: 27.5.1990\n"
     ]
    }
   ],
   "source": [
    "from datetime import datetime, timedelta\n",
    "\n",
    "class Record:\n",
    "    def __init__(self, surname, name, phone_number, birth_date):\n",
    "        self.__surname = surname\n",
    "        self.__name = name\n",
    "        self.__birth_date = birth_date\n",
    "        self.__phone_number = phone_number\n",
    "\n",
    "    @property\n",
    "    def name(self):\n",
    "        return self.__name\n",
    "    \n",
    "    @name.setter\n",
    "    def name(self, value:str):\n",
    "        self.__name = value\n",
    "\n",
    "    @property\n",
    "    def surname(self):\n",
    "        return self.__surname\n",
    "    \n",
    "    @surname.setter\n",
    "    def surname(self, value:str):\n",
    "        self.__surname = value\n",
    "\n",
    "    @property\n",
    "    def birth_date(self):\n",
    "        return self.__birth_date\n",
    "    \n",
    "    @birth_date.setter\n",
    "    def birth_date(self, value:list):\n",
    "        self.__birth_date = value\n",
    "\n",
    "    @property\n",
    "    def phone_number(self):\n",
    "        return self.__phone_number\n",
    "    \n",
    "    @phone_number.setter\n",
    "    def phone_number(self, value:int):\n",
    "        self.__phone_number = value\n",
    "\n",
    "    def __str__(self):\n",
    "        return f\"{self.__surname} {self.__name}, телефон: {self.__phone_number}, дата рождения: {self.__birth_date[0]}.{self.__birth_date[1]}.{self.__birth_date[2]}\"\n",
    "\n",
    "class Notebook:\n",
    "    def __init__(self):\n",
    "        self.__record_array = []\n",
    "\n",
    "    def add_record(self, record):\n",
    "        self.__record_array.append(record)\n",
    "\n",
    "    def find_by_phone(self, phone_number):\n",
    "        for record in self.__record_array:\n",
    "            if record.phone_number == phone_number:\n",
    "                return record\n",
    "        return \"Информации о человеке, с таким номером нет\"\n",
    "    \n",
    "    def find_by_birth_date(self, date:str=None):\n",
    "        if date is None:\n",
    "            date = datetime.now()\n",
    "        else:\n",
    "            date = datetime.strptime(date, \"%d.%m.%Y\")\n",
    "        return [record for record in self.__record_array if record.birth_date[0] == date.day and record.birth_date[1] == date.month]\n",
    "    \n",
    "    def find_birthdays_next_week(self):\n",
    "        today = datetime.now()\n",
    "        next_week = today + timedelta(weeks=1)\n",
    "        return [record for record in self.__record_array if today < datetime(today.year, record.birth_date[1], record.birth_date[0]) <= next_week]\n",
    "\n",
    "    def find_by_phone_prefix(self, prefix):\n",
    "        return [record for record in self.__record_array if str(record.phone_number).startswith(prefix)]\n",
    "\n",
    "\n",
    "# Пример использования\n",
    "notebook = Notebook()\n",
    "notebook.add_record(Record(\"Иванов\", \"Иван\", 1234567890, [27, 5, 1990]))\n",
    "notebook.add_record(Record(\"Петров\", \"Петр\", 2345678901, [28, 5, 1992]))\n",
    "notebook.add_record(Record(\"Сидоров\", \"Сидр\", 3456789012, [29, 5, 1994]))\n",
    "\n",
    "phone_to_search = input(\"Введите номер телефона для поиска: \")\n",
    "record = notebook.find_by_phone(phone_to_search)\n",
    "print(record)\n",
    "\n",
    "print(\"\\n\\n\", '*'*100, \"\\n\\n\")\n",
    "\n",
    "people_with_birthday_today = notebook.find_by_birth_date()\n",
    "print(\"Именинники сегодня:\")\n",
    "for person in people_with_birthday_today:\n",
    "    print(person)\n",
    "\n",
    "print(\"\\n\\n\", '*'*100, \"\\n\\n\")\n",
    "\n",
    "people_with_birthday_today = notebook.find_by_birth_date()\n",
    "date_birthday = input(\"Введите дату в формате день.месяц.год: \")\n",
    "print(f\"Именинники в день {date_birthday}: \")\n",
    "for person in people_with_birthday_today:\n",
    "    print(person)\n",
    "\n",
    "print(\"\\n\\n\", '*'*100, \"\\n\\n\")\n",
    "\n",
    "people_with_birthday_next_week = notebook.find_birthdays_next_week()\n",
    "\n",
    "print(\"Именинники на следующей неделе:\")\n",
    "for person in people_with_birthday_next_week:\n",
    "    print(person)\n",
    "\n",
    "print(\"\\n\\n\", '*'*100, \"\\n\\n\")\n",
    "\n",
    "prefix_to_search = input(\"Введите три цифры номера телефона для поиска: \")\n",
    "people_with_phone_prefix = notebook.find_by_phone_prefix(prefix_to_search)\n",
    "print(\"Люди с номером телефона, начинающимся на заданные цифры:\")\n",
    "for person in people_with_phone_prefix:\n",
    "    print(person)\n",
    "\n",
    "print(\"\\n\\n\", '*'*100, \"\\n\\n\")"
   ]
  },
  {
   "attachments": {
    "image.png": {
     "image/png": "[encoded data removed]"
    }
   },
   "cell_type": "markdown",
   "metadata": {},
   "source": [
    "Написать программу для решения задачи двух станков\n",
    "\n",
    "![image.png](attachment:image.png)"
   ]
  },
  {
   "cell_type": "code",
   "execution_count": 26,
   "metadata": {},
   "outputs": [
    {
     "data": {
      "text/plain": [
       "[3, 1, 2, 0, 4]"
      ]
     },
     "execution_count": 26,
     "metadata": {},
     "output_type": "execute_result"
    }
   ],
   "source": [
    "import numpy as np\n",
    "\n",
    "array = np.array([\n",
    "    [19, 8, 14, 7, 12, 15, 9, 3, 5],\n",
    "    [2, 9, 15, 8, 14, 13, 10, 6, 7]\n",
    "])\n",
    "\n",
    "array = np.array([\n",
    "    [15, 16, 11, 12, 9],\n",
    "    [10, 17, 10, 13, 6]\n",
    "])\n",
    "\n",
    "\n",
    "def johnson_algorithm(array):\n",
    "    # алгоритм Джонсона\n",
    "    \n",
    "    # Массив индексов номеров деталей\n",
    "    indexes = list(range(array.shape[1]))\n",
    "\n",
    "    # Список оптимальных порядков обработки деталей   \n",
    "    optimal_order = []\n",
    "\n",
    "    a_idx = 0\n",
    "    b_idx = 0\n",
    "    # print(indexes)\n",
    "    while indexes:\n",
    "        # Омега большое число\n",
    "        min_time = float(\"inf\")\n",
    "\n",
    "        # Индекс минимального числа\n",
    "        min_time_idx = -1\n",
    "\n",
    "        # print(indexes)\n",
    "        is_first = False\n",
    "\n",
    "        for idx in indexes:\n",
    "            time = min(array[0][idx], array[1][idx])\n",
    "\n",
    "            if time < min_time:\n",
    "                min_time = time\n",
    "                min_time_idx = idx\n",
    "\n",
    "                # Если m находится в строке А, т. е. m, то k‑я деталь обрабатывается первой:\n",
    "                if time == array[0][idx]:\n",
    "                    is_first = True\n",
    "                else:\n",
    "                    is_first = False\n",
    "\n",
    "        # Удаляем индекс из списка\n",
    "        indexes.remove(min_time_idx)\n",
    "\n",
    "        if is_first == True:\n",
    "            # Добавляем в начало\n",
    "            optimal_order.insert(a_idx, min_time_idx)\n",
    "            a_idx += 1\n",
    "        else:\n",
    "            # Добавление индекса\n",
    "            optimal_order.insert(-b_idx, min_time_idx)\n",
    "            b_idx += 1\n",
    "        \n",
    "        # print(optimal_order)\n",
    "\n",
    "    return optimal_order\n",
    "\n",
    "\n",
    "johnson_algorithm(array)"
   ]
  },
  {
   "attachments": {
    "image.png": {
     "image/png": "[encoded data removed]"
    }
   },
   "cell_type": "markdown",
   "metadata": {},
   "source": [
    "Написать программу для решения задачи минимизации суммарного штрафа. \n",
    "\n",
    "![image.png](attachment:image.png)\n",
    "\n",
    "\n",
    "**Нужно**\n",
    ">Нужно найти порядок обслуживания, минимизирующий суммарный штраф ожидания разгрузки, определить величину этого штрафа\n",
    "и сравнить ее с суммарным штрафом от обслуживания в порядке исходной нумерации заявок."
   ]
  },
  {
   "cell_type": "code",
   "execution_count": 57,
   "metadata": {},
   "outputs": [
    {
     "name": "stdout",
     "output_type": "stream",
     "text": [
      "Штраф изначально: 7551\n",
      "Штраф оптимального пути: 7003.0\n",
      "Разница штрафа: 548.0\n",
      "Оптимальная очередь обслуживания заявок: [0, 6, 3, 7, 1, 8, 5, 2, 4]\n"
     ]
    }
   ],
   "source": [
    "import numpy as np\n",
    "\n",
    "array = np.array([\n",
    "    [12, 16, 18, 15, 13, 19, 16, 17, 12],\n",
    "    [15, 13, 16, 12, 14, 15, 13, 18, 10]\n",
    "])\n",
    "\n",
    "# array = np.array([\n",
    "#     [6, 8, 7, 5, 3, 2, 4, 1, 3, 5],\n",
    "#     [4, 2, 3, 6, 1, 4, 5, 2, 6, 3]\n",
    "# ])\n",
    "\n",
    "\n",
    "def total_service_penalty(array):\n",
    "    # Суммарный штраф обслуживания\n",
    "    total_penalty = 0\n",
    "\n",
    "    for i in range(array.shape[1]):\n",
    "        if i == 0:\n",
    "            total_penalty += array[1][i] * 0\n",
    "        else:\n",
    "            s = 0\n",
    "            for j in range(i):\n",
    "                s += array[0][j]\n",
    "\n",
    "            total_penalty += array[1][i] * s\n",
    "\n",
    "        # print(total_penalty)\n",
    "\n",
    "    return total_penalty\n",
    "\n",
    "\n",
    "def penalty_optimal_sequence(array, sequence):\n",
    "    # Суммарный штраф обслуживания\n",
    "    total_penalty = 0\n",
    "    \n",
    "    new_arr = np.zeros((2, array.shape[1]))\n",
    "    \n",
    "\n",
    "    for i, idx in enumerate(sequence):\n",
    "        \n",
    "        new_arr[0][idx] = array[0][i]\n",
    "        new_arr[1][idx] = array[1][i]\n",
    "    \n",
    "    total_penalty = 0\n",
    "\n",
    "    # print(new_arr)\n",
    "    # print(sequence)\n",
    "\n",
    "    for i in range(new_arr.shape[1]):\n",
    "        if i == 0:\n",
    "            total_penalty += new_arr[1][i] * 0\n",
    "\n",
    "        else:\n",
    "            s = 0\n",
    "            for j in range(i):\n",
    "                s += new_arr[0][j]\n",
    "\n",
    "            # print(new_arr[1][i], s)\n",
    "\n",
    "            total_penalty += new_arr[1][i] * s\n",
    "\n",
    "        # print(total_penalty)\n",
    "    return total_penalty\n",
    "    \n",
    "\n",
    "# Суммарный штраф обслуживания\n",
    "total_penalty = total_service_penalty(array)\n",
    "\n",
    "# относительный штраф\n",
    "relative_penalty = array[1] / array[0]\n",
    "\n",
    "# оптимальное расположение (последовательность) обработки заявок\n",
    "n_optim = [0 for _ in range(relative_penalty.shape[0])]\n",
    "\n",
    "for i, idx in enumerate(list(reversed(np.argsort(relative_penalty)))):\n",
    "    n_optim[idx] = i\n",
    "\n",
    "total_optimal_sequence = penalty_optimal_sequence(array, n_optim)\n",
    "\n",
    "\n",
    "print(f\"Штраф изначально: {total_penalty}\")\n",
    "print(f\"Штраф оптимального пути: {total_optimal_sequence}\")\n",
    "print(f\"Разница штрафа: {total_penalty - total_optimal_sequence}\")\n",
    "print(f\"Оптимальная очередь обслуживания заявок: {n_optim}\")"
   ]
  },
  {
   "cell_type": "code",
   "execution_count": 27,
   "metadata": {},
   "outputs": [
    {
     "data": {
      "text/plain": [
       "[2, 0, 1]"
      ]
     },
     "execution_count": 27,
     "metadata": {},
     "output_type": "execute_result"
    }
   ],
   "source": [
    "arr = np.array([10, 5, 9])\n",
    "\n",
    "n_optim = [0 for _ in range(arr.shape[0])]\n",
    "\n",
    "for i, idx in enumerate(np.argsort(arr)):\n",
    "    n_optim[idx] = i\n",
    "\n",
    "n_optim"
   ]
  },
  {
   "cell_type": "code",
   "execution_count": null,
   "metadata": {},
   "outputs": [],
   "source": []
  },
  {
   "cell_type": "code",
   "execution_count": 10,
   "metadata": {},
   "outputs": [
    {
     "data": {
      "text/plain": [
       "9"
      ]
     },
     "execution_count": 10,
     "metadata": {},
     "output_type": "execute_result"
    }
   ],
   "source": [
    "array.shape[1]"
   ]
  }
 ],
 "metadata": {
  "kernelspec": {
   "display_name": "Python 3",
   "language": "python",
   "name": "python3"
  },
  "language_info": {
   "codemirror_mode": {
    "name": "ipython",
    "version": 3
   },
   "file_extension": ".py",
   "mimetype": "text/x-python",
   "name": "python",
   "nbconvert_exporter": "python",
   "pygments_lexer": "ipython3",
   "version": "3.10.5"
  }
 },
 "nbformat": 4,
 "nbformat_minor": 2
}
